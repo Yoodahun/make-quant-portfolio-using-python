{
 "cells": [
  {
   "cell_type": "code",
   "execution_count": 1,
   "id": "initial_id",
   "metadata": {
    "collapsed": true,
    "ExecuteTime": {
     "end_time": "2023-08-24T14:26:20.687131Z",
     "start_time": "2023-08-24T14:26:19.432168Z"
    }
   },
   "outputs": [
    {
     "data": {
      "text/plain": "     종목코드     종목명     종가    대비    등락률     EPS    PER  선행 EPS  선행 PER      BPS  \\\n0  060310      3S   2650    -5  -0.19    33.0  80.30     NaN     NaN    829.0   \n1  095570  AJ네트웍스   4050   -80  -1.94   201.0  20.15   607.0    6.68   8076.0   \n2  006840   AK홀딩스  19270  -140  -0.72     NaN    NaN     NaN     NaN  41948.0   \n3  054620     APS   8790 -2340 -21.02   505.0  17.41     NaN     NaN  10864.0   \n4  265520   AP시스템  18210  -490  -2.62  5463.0   3.33  4149.0    4.39  17980.0   \n\n    PBR  주당배당금  배당수익률       기준일  \n0  3.20      0   0.00  20230822  \n1  0.50    270   6.67  20230822  \n2  0.46    200   1.04  20230822  \n3  0.81      0   0.00  20230822  \n4  1.01    270   1.48  20230822  ",
      "text/html": "<div>\n<style scoped>\n    .dataframe tbody tr th:only-of-type {\n        vertical-align: middle;\n    }\n\n    .dataframe tbody tr th {\n        vertical-align: top;\n    }\n\n    .dataframe thead th {\n        text-align: right;\n    }\n</style>\n<table border=\"1\" class=\"dataframe\">\n  <thead>\n    <tr style=\"text-align: right;\">\n      <th></th>\n      <th>종목코드</th>\n      <th>종목명</th>\n      <th>종가</th>\n      <th>대비</th>\n      <th>등락률</th>\n      <th>EPS</th>\n      <th>PER</th>\n      <th>선행 EPS</th>\n      <th>선행 PER</th>\n      <th>BPS</th>\n      <th>PBR</th>\n      <th>주당배당금</th>\n      <th>배당수익률</th>\n      <th>기준일</th>\n    </tr>\n  </thead>\n  <tbody>\n    <tr>\n      <th>0</th>\n      <td>060310</td>\n      <td>3S</td>\n      <td>2650</td>\n      <td>-5</td>\n      <td>-0.19</td>\n      <td>33.0</td>\n      <td>80.30</td>\n      <td>NaN</td>\n      <td>NaN</td>\n      <td>829.0</td>\n      <td>3.20</td>\n      <td>0</td>\n      <td>0.00</td>\n      <td>20230822</td>\n    </tr>\n    <tr>\n      <th>1</th>\n      <td>095570</td>\n      <td>AJ네트웍스</td>\n      <td>4050</td>\n      <td>-80</td>\n      <td>-1.94</td>\n      <td>201.0</td>\n      <td>20.15</td>\n      <td>607.0</td>\n      <td>6.68</td>\n      <td>8076.0</td>\n      <td>0.50</td>\n      <td>270</td>\n      <td>6.67</td>\n      <td>20230822</td>\n    </tr>\n    <tr>\n      <th>2</th>\n      <td>006840</td>\n      <td>AK홀딩스</td>\n      <td>19270</td>\n      <td>-140</td>\n      <td>-0.72</td>\n      <td>NaN</td>\n      <td>NaN</td>\n      <td>NaN</td>\n      <td>NaN</td>\n      <td>41948.0</td>\n      <td>0.46</td>\n      <td>200</td>\n      <td>1.04</td>\n      <td>20230822</td>\n    </tr>\n    <tr>\n      <th>3</th>\n      <td>054620</td>\n      <td>APS</td>\n      <td>8790</td>\n      <td>-2340</td>\n      <td>-21.02</td>\n      <td>505.0</td>\n      <td>17.41</td>\n      <td>NaN</td>\n      <td>NaN</td>\n      <td>10864.0</td>\n      <td>0.81</td>\n      <td>0</td>\n      <td>0.00</td>\n      <td>20230822</td>\n    </tr>\n    <tr>\n      <th>4</th>\n      <td>265520</td>\n      <td>AP시스템</td>\n      <td>18210</td>\n      <td>-490</td>\n      <td>-2.62</td>\n      <td>5463.0</td>\n      <td>3.33</td>\n      <td>4149.0</td>\n      <td>4.39</td>\n      <td>17980.0</td>\n      <td>1.01</td>\n      <td>270</td>\n      <td>1.48</td>\n      <td>20230822</td>\n    </tr>\n  </tbody>\n</table>\n</div>"
     },
     "execution_count": 1,
     "metadata": {},
     "output_type": "execute_result"
    }
   ],
   "source": [
    "import requests as rq\n",
    "from io import BytesIO\n",
    "import pandas as pd\n",
    "\n",
    "gen_otp_url = 'http://data.krx.co.kr/comm/fileDn/GenerateOTP/generate.cmd'\n",
    "gen_otp_stock_info_for_request = {\n",
    "    'searchType':'1',\n",
    "    'mktId':'ALL',\n",
    "    'trdDd':20230822,\n",
    "    'csvxls_isNo':'false',\n",
    "    'name':'fileDown',\n",
    "    'url':'dbms/MDC/STAT/standard/MDCSTAT03501'\n",
    "}\n",
    "\n",
    "header = {\n",
    "    \"Referer\":'http://data.krx.co.kr/contents/MDC/MDI/mdiLoader'\n",
    "}\n",
    "otp = rq.post(gen_otp_url, gen_otp_stock_info_for_request, headers=header).text\n",
    "\n",
    "down_url = 'http://data.krx.co.kr/comm/fileDn/download_csv/download.cmd'\n",
    "down_stock_data_list = rq.post(down_url, {'code':otp}, headers=header)\n",
    "stock_data = pd.read_csv(BytesIO(down_stock_data_list.content), encoding='EUC-KR')\n",
    "stock_data['종목명'] = stock_data['종목명'].str.strip() \n",
    "stock_data['기준일'] = 20230822\n",
    "\n",
    "stock_data.head()\n"
   ]
  },
  {
   "cell_type": "code",
   "execution_count": null,
   "outputs": [],
   "source": [],
   "metadata": {
    "collapsed": false
   },
   "id": "a8fe60b1ff4bb073"
  }
 ],
 "metadata": {
  "kernelspec": {
   "display_name": "Python 3",
   "language": "python",
   "name": "python3"
  },
  "language_info": {
   "codemirror_mode": {
    "name": "ipython",
    "version": 2
   },
   "file_extension": ".py",
   "mimetype": "text/x-python",
   "name": "python",
   "nbconvert_exporter": "python",
   "pygments_lexer": "ipython2",
   "version": "2.7.6"
  }
 },
 "nbformat": 4,
 "nbformat_minor": 5
}
