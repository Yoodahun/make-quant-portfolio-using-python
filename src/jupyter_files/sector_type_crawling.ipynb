{
 "cells": [
  {
   "cell_type": "code",
   "execution_count": 1,
   "id": "initial_id",
   "metadata": {
    "collapsed": true,
    "ExecuteTime": {
     "end_time": "2023-08-24T14:14:40.447057Z",
     "start_time": "2023-08-24T14:14:39.891195Z"
    }
   },
   "outputs": [
    {
     "data": {
      "text/plain": "'G4KrYili0iNo4XF8NmUmiG0CwVlqr6OYWhAlthCvhVMRtSksuLS7Bnxpl86F7dAOkunw9BBwugQaSjGAcH15eW+gppdlg3WNy3bCtnY+PmEtBgM+EFJCxYg3zco1gIgRZqIo4cIzoURnTI8+MmkJ4m8vFLhSKmM794gFu+ThsO31lY4woqehX8j6OlXFDcfHdV4NbYo4+D2Rwcfj24VnU3Zpq3ik/Dyw3FdyOXhJkBI='"
     },
     "execution_count": 1,
     "metadata": {},
     "output_type": "execute_result"
    }
   ],
   "source": [
    "import requests as rq\n",
    "from io import BytesIO\n",
    "import pandas as pd\n",
    "\n",
    "gen_otp_url = 'http://data.krx.co.kr/comm/fileDn/GenerateOTP/generate.cmd'\n",
    "gen_otp_stock = {\n",
    "    'mktId':'STK',\n",
    "    'trdDd':20230822,\n",
    "    'money':'1',\n",
    "    'csvxls_isNo':'false',\n",
    "    'name':'fileDown',\n",
    "    'url':'dbms/MDC/STAT/standard/MDCSTAT03901'\n",
    "}\n",
    "\n",
    "header = {\n",
    "    \"Referer\":'http://data.krx.co.kr/contents/MDC/MDI/mdiLoader'\n",
    "}\n",
    "\n",
    "otp_kospi = rq.post(gen_otp_url, gen_otp_stock, headers=header).text\n",
    "\n",
    "otp_kospi"
   ]
  },
  {
   "cell_type": "code",
   "execution_count": 2,
   "outputs": [
    {
     "data": {
      "text/plain": "       종목코드      종목명   시장구분    업종명      종가   대비   등락률           시가총액\n0    095570   AJ네트웍스  KOSPI   서비스업    4050  -80 -1.94   189630294750\n1    006840    AK홀딩스  KOSPI   기타금융   19270 -140 -0.72   255280500470\n2    027410      BGF  KOSPI   기타금융    3565    0  0.00   341230359915\n3    282330   BGF리테일  KOSPI    유통업  161800 -600 -0.37  2796535990800\n4    138930  BNK금융지주  KOSPI   기타금융    6560  -20 -0.30  2138135213760\n..      ...      ...    ...    ...     ...  ...   ...            ...\n946  079980      휴비스  KOSPI     화학    8420    0  0.00   290490000000\n947  005010      휴스틸  KOSPI   철강금속    4910 -110 -2.19   275883448250\n948  000540     흥국화재  KOSPI     보험    2900  -20 -0.68   186303670500\n949  000545    흥국화재우  KOSPI     보험    4700  -60 -1.26     3609600000\n950  003280     흥아해운  KOSPI  운수창고업    1866   17  0.92   448632861534\n\n[951 rows x 8 columns]",
      "text/html": "<div>\n<style scoped>\n    .dataframe tbody tr th:only-of-type {\n        vertical-align: middle;\n    }\n\n    .dataframe tbody tr th {\n        vertical-align: top;\n    }\n\n    .dataframe thead th {\n        text-align: right;\n    }\n</style>\n<table border=\"1\" class=\"dataframe\">\n  <thead>\n    <tr style=\"text-align: right;\">\n      <th></th>\n      <th>종목코드</th>\n      <th>종목명</th>\n      <th>시장구분</th>\n      <th>업종명</th>\n      <th>종가</th>\n      <th>대비</th>\n      <th>등락률</th>\n      <th>시가총액</th>\n    </tr>\n  </thead>\n  <tbody>\n    <tr>\n      <th>0</th>\n      <td>095570</td>\n      <td>AJ네트웍스</td>\n      <td>KOSPI</td>\n      <td>서비스업</td>\n      <td>4050</td>\n      <td>-80</td>\n      <td>-1.94</td>\n      <td>189630294750</td>\n    </tr>\n    <tr>\n      <th>1</th>\n      <td>006840</td>\n      <td>AK홀딩스</td>\n      <td>KOSPI</td>\n      <td>기타금융</td>\n      <td>19270</td>\n      <td>-140</td>\n      <td>-0.72</td>\n      <td>255280500470</td>\n    </tr>\n    <tr>\n      <th>2</th>\n      <td>027410</td>\n      <td>BGF</td>\n      <td>KOSPI</td>\n      <td>기타금융</td>\n      <td>3565</td>\n      <td>0</td>\n      <td>0.00</td>\n      <td>341230359915</td>\n    </tr>\n    <tr>\n      <th>3</th>\n      <td>282330</td>\n      <td>BGF리테일</td>\n      <td>KOSPI</td>\n      <td>유통업</td>\n      <td>161800</td>\n      <td>-600</td>\n      <td>-0.37</td>\n      <td>2796535990800</td>\n    </tr>\n    <tr>\n      <th>4</th>\n      <td>138930</td>\n      <td>BNK금융지주</td>\n      <td>KOSPI</td>\n      <td>기타금융</td>\n      <td>6560</td>\n      <td>-20</td>\n      <td>-0.30</td>\n      <td>2138135213760</td>\n    </tr>\n    <tr>\n      <th>...</th>\n      <td>...</td>\n      <td>...</td>\n      <td>...</td>\n      <td>...</td>\n      <td>...</td>\n      <td>...</td>\n      <td>...</td>\n      <td>...</td>\n    </tr>\n    <tr>\n      <th>946</th>\n      <td>079980</td>\n      <td>휴비스</td>\n      <td>KOSPI</td>\n      <td>화학</td>\n      <td>8420</td>\n      <td>0</td>\n      <td>0.00</td>\n      <td>290490000000</td>\n    </tr>\n    <tr>\n      <th>947</th>\n      <td>005010</td>\n      <td>휴스틸</td>\n      <td>KOSPI</td>\n      <td>철강금속</td>\n      <td>4910</td>\n      <td>-110</td>\n      <td>-2.19</td>\n      <td>275883448250</td>\n    </tr>\n    <tr>\n      <th>948</th>\n      <td>000540</td>\n      <td>흥국화재</td>\n      <td>KOSPI</td>\n      <td>보험</td>\n      <td>2900</td>\n      <td>-20</td>\n      <td>-0.68</td>\n      <td>186303670500</td>\n    </tr>\n    <tr>\n      <th>949</th>\n      <td>000545</td>\n      <td>흥국화재우</td>\n      <td>KOSPI</td>\n      <td>보험</td>\n      <td>4700</td>\n      <td>-60</td>\n      <td>-1.26</td>\n      <td>3609600000</td>\n    </tr>\n    <tr>\n      <th>950</th>\n      <td>003280</td>\n      <td>흥아해운</td>\n      <td>KOSPI</td>\n      <td>운수창고업</td>\n      <td>1866</td>\n      <td>17</td>\n      <td>0.92</td>\n      <td>448632861534</td>\n    </tr>\n  </tbody>\n</table>\n<p>951 rows × 8 columns</p>\n</div>"
     },
     "execution_count": 2,
     "metadata": {},
     "output_type": "execute_result"
    }
   ],
   "source": [
    "down_url = 'http://data.krx.co.kr/comm/fileDn/download_csv/download.cmd'\n",
    "down_sector_kospi = rq.post(down_url, {'code':otp_kospi}, headers=header)\n",
    "sector_kospi = pd.read_csv(BytesIO(down_sector_kospi.content), encoding='EUC-KR')\n",
    "\n",
    "sector_kospi"
   ],
   "metadata": {
    "collapsed": false,
    "ExecuteTime": {
     "end_time": "2023-08-24T14:17:04.803100Z",
     "start_time": "2023-08-24T14:17:03.833405Z"
    }
   },
   "id": "48b4c8462d576bc"
  },
  {
   "cell_type": "code",
   "execution_count": 4,
   "outputs": [
    {
     "data": {
      "text/plain": "     종목코드         종목명    시장구분    업종명     종가    대비    등락률          시가총액\n0  060310          3S  KOSDAQ  기계·장비   2650    -5  -0.19  128622101300\n1  054620         APS  KOSDAQ     금융   8790 -2340 -21.02  179265202590\n2  265520       AP시스템  KOSDAQ    반도체  18210  -490  -2.62  278274676410\n3  211270        AP위성  KOSDAQ   통신장비  11150  -220  -1.93  168167689600\n4  126600  BGF에코머티리얼즈  KOSDAQ     화학   5060   -80  -1.56  206797210840",
      "text/html": "<div>\n<style scoped>\n    .dataframe tbody tr th:only-of-type {\n        vertical-align: middle;\n    }\n\n    .dataframe tbody tr th {\n        vertical-align: top;\n    }\n\n    .dataframe thead th {\n        text-align: right;\n    }\n</style>\n<table border=\"1\" class=\"dataframe\">\n  <thead>\n    <tr style=\"text-align: right;\">\n      <th></th>\n      <th>종목코드</th>\n      <th>종목명</th>\n      <th>시장구분</th>\n      <th>업종명</th>\n      <th>종가</th>\n      <th>대비</th>\n      <th>등락률</th>\n      <th>시가총액</th>\n    </tr>\n  </thead>\n  <tbody>\n    <tr>\n      <th>0</th>\n      <td>060310</td>\n      <td>3S</td>\n      <td>KOSDAQ</td>\n      <td>기계·장비</td>\n      <td>2650</td>\n      <td>-5</td>\n      <td>-0.19</td>\n      <td>128622101300</td>\n    </tr>\n    <tr>\n      <th>1</th>\n      <td>054620</td>\n      <td>APS</td>\n      <td>KOSDAQ</td>\n      <td>금융</td>\n      <td>8790</td>\n      <td>-2340</td>\n      <td>-21.02</td>\n      <td>179265202590</td>\n    </tr>\n    <tr>\n      <th>2</th>\n      <td>265520</td>\n      <td>AP시스템</td>\n      <td>KOSDAQ</td>\n      <td>반도체</td>\n      <td>18210</td>\n      <td>-490</td>\n      <td>-2.62</td>\n      <td>278274676410</td>\n    </tr>\n    <tr>\n      <th>3</th>\n      <td>211270</td>\n      <td>AP위성</td>\n      <td>KOSDAQ</td>\n      <td>통신장비</td>\n      <td>11150</td>\n      <td>-220</td>\n      <td>-1.93</td>\n      <td>168167689600</td>\n    </tr>\n    <tr>\n      <th>4</th>\n      <td>126600</td>\n      <td>BGF에코머티리얼즈</td>\n      <td>KOSDAQ</td>\n      <td>화학</td>\n      <td>5060</td>\n      <td>-80</td>\n      <td>-1.56</td>\n      <td>206797210840</td>\n    </tr>\n  </tbody>\n</table>\n</div>"
     },
     "execution_count": 4,
     "metadata": {},
     "output_type": "execute_result"
    }
   ],
   "source": [
    "gen_otp_kosdaq = {\n",
    "    'mktId':'KSQ',\n",
    "    'trdDd':20230822,\n",
    "    'money':'1',\n",
    "    'csvxls_isNo':'false',\n",
    "    'name':'fileDown',\n",
    "    'url':'dbms/MDC/STAT/standard/MDCSTAT03901'\n",
    "}\n",
    "\n",
    "otp_kosdaq = rq.post(gen_otp_url, gen_otp_kosdaq, headers=header).text\n",
    "down_sector_kosdaq = rq.post(down_url, {'code':otp_kosdaq}, headers=header)\n",
    "sector_kosdaq = pd.read_csv(BytesIO(down_sector_kosdaq.content), encoding='EUC-KR')\n",
    "\n",
    "\n",
    "sector_kosdaq.head()"
   ],
   "metadata": {
    "collapsed": false,
    "ExecuteTime": {
     "end_time": "2023-08-24T14:19:13.526723Z",
     "start_time": "2023-08-24T14:19:12.638457Z"
    }
   },
   "id": "eeae4fb308243ecd"
  },
  {
   "cell_type": "code",
   "execution_count": 5,
   "outputs": [
    {
     "data": {
      "text/plain": "     종목코드      종목명   시장구분   업종명      종가   대비   등락률           시가총액       기준일\n0  095570   AJ네트웍스  KOSPI  서비스업    4050  -80 -1.94   189630294750  20230822\n1  006840    AK홀딩스  KOSPI  기타금융   19270 -140 -0.72   255280500470  20230822\n2  027410      BGF  KOSPI  기타금융    3565    0  0.00   341230359915  20230822\n3  282330   BGF리테일  KOSPI   유통업  161800 -600 -0.37  2796535990800  20230822\n4  138930  BNK금융지주  KOSPI  기타금융    6560  -20 -0.30  2138135213760  20230822",
      "text/html": "<div>\n<style scoped>\n    .dataframe tbody tr th:only-of-type {\n        vertical-align: middle;\n    }\n\n    .dataframe tbody tr th {\n        vertical-align: top;\n    }\n\n    .dataframe thead th {\n        text-align: right;\n    }\n</style>\n<table border=\"1\" class=\"dataframe\">\n  <thead>\n    <tr style=\"text-align: right;\">\n      <th></th>\n      <th>종목코드</th>\n      <th>종목명</th>\n      <th>시장구분</th>\n      <th>업종명</th>\n      <th>종가</th>\n      <th>대비</th>\n      <th>등락률</th>\n      <th>시가총액</th>\n      <th>기준일</th>\n    </tr>\n  </thead>\n  <tbody>\n    <tr>\n      <th>0</th>\n      <td>095570</td>\n      <td>AJ네트웍스</td>\n      <td>KOSPI</td>\n      <td>서비스업</td>\n      <td>4050</td>\n      <td>-80</td>\n      <td>-1.94</td>\n      <td>189630294750</td>\n      <td>20230822</td>\n    </tr>\n    <tr>\n      <th>1</th>\n      <td>006840</td>\n      <td>AK홀딩스</td>\n      <td>KOSPI</td>\n      <td>기타금융</td>\n      <td>19270</td>\n      <td>-140</td>\n      <td>-0.72</td>\n      <td>255280500470</td>\n      <td>20230822</td>\n    </tr>\n    <tr>\n      <th>2</th>\n      <td>027410</td>\n      <td>BGF</td>\n      <td>KOSPI</td>\n      <td>기타금융</td>\n      <td>3565</td>\n      <td>0</td>\n      <td>0.00</td>\n      <td>341230359915</td>\n      <td>20230822</td>\n    </tr>\n    <tr>\n      <th>3</th>\n      <td>282330</td>\n      <td>BGF리테일</td>\n      <td>KOSPI</td>\n      <td>유통업</td>\n      <td>161800</td>\n      <td>-600</td>\n      <td>-0.37</td>\n      <td>2796535990800</td>\n      <td>20230822</td>\n    </tr>\n    <tr>\n      <th>4</th>\n      <td>138930</td>\n      <td>BNK금융지주</td>\n      <td>KOSPI</td>\n      <td>기타금융</td>\n      <td>6560</td>\n      <td>-20</td>\n      <td>-0.30</td>\n      <td>2138135213760</td>\n      <td>20230822</td>\n    </tr>\n  </tbody>\n</table>\n</div>"
     },
     "execution_count": 5,
     "metadata": {},
     "output_type": "execute_result"
    }
   ],
   "source": [
    "krx_sector = pd.concat([sector_kospi, sector_kosdaq]).reset_index(drop=True)\n",
    "krx_sector['종목명'] =krx_sector['종목명'].str.strip() \n",
    "krx_sector['기준일'] = 20230822\n",
    "\n",
    "krx_sector.head()"
   ],
   "metadata": {
    "collapsed": false,
    "ExecuteTime": {
     "end_time": "2023-08-24T14:21:07.223954Z",
     "start_time": "2023-08-24T14:21:07.213461Z"
    }
   },
   "id": "51cdeeae1ed560ae"
  },
  {
   "cell_type": "code",
   "execution_count": null,
   "outputs": [],
   "source": [],
   "metadata": {
    "collapsed": false
   },
   "id": "142f8e955f739e58"
  }
 ],
 "metadata": {
  "kernelspec": {
   "display_name": "Python 3",
   "language": "python",
   "name": "python3"
  },
  "language_info": {
   "codemirror_mode": {
    "name": "ipython",
    "version": 2
   },
   "file_extension": ".py",
   "mimetype": "text/x-python",
   "name": "python",
   "nbconvert_exporter": "python",
   "pygments_lexer": "ipython2",
   "version": "2.7.6"
  }
 },
 "nbformat": 4,
 "nbformat_minor": 5
}
